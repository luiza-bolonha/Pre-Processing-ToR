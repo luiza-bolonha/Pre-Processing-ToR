{
 "cells": [
  {
   "cell_type": "markdown",
   "id": "19b79e74",
   "metadata": {},
   "source": [
    "Informacões da base de dados"
   ]
  },
  {
   "cell_type": "code",
   "execution_count": 3,
   "id": "f356ea8d",
   "metadata": {},
   "outputs": [
    {
     "name": "stdout",
     "output_type": "stream",
     "text": [
      "A base tem 81574 linhas.\n",
      "A menor data é: 2024-09-19 20:15:00.588000\n",
      "A maior data é: 2024-10-03 00:13:12.548000\n"
     ]
    }
   ],
   "source": [
    "import pandas as pd\n",
    "import utils.processing_database as pdb\n",
    "import importlib\n",
    "\n",
    "importlib.reload(pdb)\n",
    "\n",
    "file_path = 'datasets/vacinal_2024.csv'\n",
    "\n",
    "pdb.info_file(file_path)"
   ]
  },
  {
   "cell_type": "markdown",
   "id": "800b4083",
   "metadata": {},
   "source": [
    "Cria nova base de dados filtrando pela data"
   ]
  },
  {
   "cell_type": "code",
   "execution_count": 4,
   "id": "44f24ab0",
   "metadata": {},
   "outputs": [
    {
     "name": "stdout",
     "output_type": "stream",
     "text": [
      "A base tem 1364 linhas.\n",
      "A menor data é: 2025-06-01 00:02:58.532000\n",
      "A maior data é: 2025-06-03 23:54:55.440000\n"
     ]
    }
   ],
   "source": [
    "import pandas as pd\n",
    "import os\n",
    "\n",
    "importlib.reload(pdb)\n",
    "\n",
    "original_file = 'datasets/vacinal_2025.csv'\n",
    "new_file_name = 'semana_1_jun_2025'\n",
    "start_date = '2025-06-01'\n",
    "end_date = '2025-06-07'\n",
    "\n",
    "pasta = \"datasets\"\n",
    "os.makedirs(pasta, exist_ok=True)\n",
    "\n",
    "df_new_database = pdb.cut_database_by_date(original_file, start_date=start_date, end_date=end_date)\n",
    "\n",
    "pdb.info_df(df_new_database)\n",
    "\n",
    "caminho = os.path.join(pasta, f\"{new_file_name}.csv\")\n",
    "#df_new_database.to_csv(caminho, index=False)"
   ]
  },
  {
   "cell_type": "code",
   "execution_count": null,
   "id": "40a7f469",
   "metadata": {},
   "outputs": [
    {
     "name": "stdout",
     "output_type": "stream",
     "text": [
      "Tamanho arquivo original: 81574\n"
     ]
    },
    {
     "name": "stderr",
     "output_type": "stream",
     "text": [
      "Verificando similaridade:   1%|          | 793/81574 [00:05<18:35, 72.44it/s] c:\\Projetos\\Pre-Processing-ToR\\utils\\processing_database.py:50: UserWarning: [W008] Evaluating Doc.similarity based on empty vectors.\n",
      "  if doc_i.similarity(docs[j]) >= threshold:\n",
      "Verificando similaridade:  87%|████████▋ | 70622/81574 [3:50:50<28:18,  6.45it/s]   "
     ]
    }
   ],
   "source": [
    "importlib.reload(pdb)\n",
    "\n",
    "file = \"vacinal_2024\"\n",
    "input_file = \"datasets/\" + file + \".csv\"\n",
    "\n",
    "pasta = \"process_datasets\"\n",
    "os.makedirs(pasta, exist_ok=True)\n",
    "\n",
    "df_filtrado = pdb.remover_textos_semelhantes_spacy(\n",
    "    file = input_file,\n",
    "    column = \"description\"\n",
    ")\n",
    "\n",
    "print(\"\\n\")\n",
    "\n",
    "caminho = os.path.join(pasta, f\"{file}_processado.csv\")\n",
    "df_filtrado.to_csv(caminho, index=False)\n",
    "\n",
    "print(f\"Arquivo salvo em: {caminho}\")"
   ]
  }
 ],
 "metadata": {
  "kernelspec": {
   "display_name": "Python 3",
   "language": "python",
   "name": "python3"
  },
  "language_info": {
   "codemirror_mode": {
    "name": "ipython",
    "version": 3
   },
   "file_extension": ".py",
   "mimetype": "text/x-python",
   "name": "python",
   "nbconvert_exporter": "python",
   "pygments_lexer": "ipython3",
   "version": "3.12.4"
  }
 },
 "nbformat": 4,
 "nbformat_minor": 5
}
