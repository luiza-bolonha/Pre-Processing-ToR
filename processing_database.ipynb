{
 "cells": [
  {
   "cell_type": "markdown",
   "id": "19b79e74",
   "metadata": {},
   "source": [
    "Validando range de datas do database"
   ]
  },
  {
   "cell_type": "code",
   "execution_count": 10,
   "id": "f356ea8d",
   "metadata": {},
   "outputs": [
    {
     "name": "stdout",
     "output_type": "stream",
     "text": [
      "A base tem 81574 linhas.\n",
      "A menor data é: 2024-09-19 20:15:00.588000\n",
      "A maior data é: 2024-10-03 00:13:12.548000\n"
     ]
    }
   ],
   "source": [
    "import pandas as pd\n",
    "\n",
    "file_path = 'datasets/vacinal_twitter_2024.csv'\n",
    "\n",
    "df = pd.read_csv(file_path)\n",
    "\n",
    "df['createdAt'] = pd.to_datetime(df['createdAt'], format='mixed')\n",
    "\n",
    "menor_data = df['createdAt'].min()\n",
    "maior_data = df['createdAt'].max()\n",
    "\n",
    "num_linhas = len(df)\n",
    "print(f\"A base tem {num_linhas} linhas.\")\n",
    "\n",
    "print(f\"A menor data é: {menor_data}\")\n",
    "print(f\"A maior data é: {maior_data}\")\n",
    "\n",
    "#df.head()"
   ]
  },
  {
   "cell_type": "markdown",
   "id": "800b4083",
   "metadata": {},
   "source": [
    "Cria nova base de dados filtrando pela data"
   ]
  },
  {
   "cell_type": "code",
   "execution_count": 5,
   "id": "44f24ab0",
   "metadata": {},
   "outputs": [
    {
     "name": "stdout",
     "output_type": "stream",
     "text": [
      "A base tem 1364 linhas.\n",
      "A menor data é: 2025-06-01 00:02:58.532000\n",
      "A maior data é: 2025-06-03 23:54:55.440000\n"
     ]
    },
    {
     "name": "stderr",
     "output_type": "stream",
     "text": [
      "C:\\Users\\luiza\\AppData\\Local\\Temp\\ipykernel_132000\\206553623.py:28: SettingWithCopyWarning: \n",
      "A value is trying to be set on a copy of a slice from a DataFrame.\n",
      "Try using .loc[row_indexer,col_indexer] = value instead\n",
      "\n",
      "See the caveats in the documentation: https://pandas.pydata.org/pandas-docs/stable/user_guide/indexing.html#returning-a-view-versus-a-copy\n",
      "  df_new_database['createdAt'] = pd.to_datetime(df_new_database['createdAt'], format='mixed')\n"
     ]
    }
   ],
   "source": [
    "import pandas as pd\n",
    "import os\n",
    "\n",
    "original_file = 'datasets/vacinal_2025_06_03.csv'\n",
    "new_file_name = 'semana_1_jun_2025'\n",
    "start_date = '2025-06-01'\n",
    "end_date = '2025-06-07'\n",
    "\n",
    "pasta = \"datasets\"\n",
    "os.makedirs(pasta, exist_ok=True)\n",
    "\n",
    "df = pd.read_csv(original_file)\n",
    "\n",
    "df['createdAt'] = pd.to_datetime(df['createdAt'], format='mixed')\n",
    "df_ordenado = df.sort_values(by='createdAt')\n",
    "\n",
    "data_inicio = pd.Timestamp(start_date)\n",
    "data_fim = pd.Timestamp(end_date)\n",
    "df_new_database = df_ordenado[(df_ordenado['createdAt'] >= data_inicio) & (df_ordenado['createdAt'] < data_fim)]\n",
    "\n",
    "num_linhas = len(df_new_database)\n",
    "print(f\"A base tem {num_linhas} linhas.\")\n",
    "\n",
    "df_new_database['createdAt'] = pd.to_datetime(df_new_database['createdAt'], format='mixed')\n",
    "\n",
    "menor_data = df_new_database['createdAt'].min()\n",
    "maior_data = df_new_database['createdAt'].max()\n",
    "\n",
    "print(f\"A menor data é: {menor_data}\")\n",
    "print(f\"A maior data é: {maior_data}\")\n",
    "\n",
    "#df_new_database.head()\n",
    "\n",
    "caminho = os.path.join(pasta, f\"{new_file_name}.csv\")\n",
    "df_new_database.to_csv(caminho, index=False)"
   ]
  }
 ],
 "metadata": {
  "kernelspec": {
   "display_name": "Python 3",
   "language": "python",
   "name": "python3"
  },
  "language_info": {
   "codemirror_mode": {
    "name": "ipython",
    "version": 3
   },
   "file_extension": ".py",
   "mimetype": "text/x-python",
   "name": "python",
   "nbconvert_exporter": "python",
   "pygments_lexer": "ipython3",
   "version": "3.12.4"
  }
 },
 "nbformat": 4,
 "nbformat_minor": 5
}
