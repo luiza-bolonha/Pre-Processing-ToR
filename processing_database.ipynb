{
 "cells": [
  {
   "cell_type": "markdown",
   "id": "19b79e74",
   "metadata": {},
   "source": [
    "Informacões da base de dados"
   ]
  },
  {
   "cell_type": "code",
   "execution_count": 13,
   "id": "f356ea8d",
   "metadata": {},
   "outputs": [
    {
     "name": "stdout",
     "output_type": "stream",
     "text": [
      "A base tem 100763 linhas.\n",
      "A menor data é: 2024-09-19 20:15:00.588000\n",
      "A maior data é: 2025-07-18 02:10:38.233000\n"
     ]
    }
   ],
   "source": [
    "import pandas as pd\n",
    "import utils.processing_database as pdb\n",
    "import importlib\n",
    "\n",
    "importlib.reload(pdb)\n",
    "\n",
    "file_path = 'datasets/vacinal_2025_07_17.csv'\n",
    "\n",
    "pdb.info_file(file_path)"
   ]
  },
  {
   "cell_type": "markdown",
   "id": "800b4083",
   "metadata": {},
   "source": [
    "Cria nova base de dados filtrando pela data"
   ]
  },
  {
   "cell_type": "code",
   "execution_count": 26,
   "id": "44f24ab0",
   "metadata": {},
   "outputs": [
    {
     "name": "stdout",
     "output_type": "stream",
     "text": [
      "A base tem 708 linhas.\n",
      "A menor data é: 2025-06-01 00:14:15.684000\n",
      "A maior data é: 2025-06-07 10:32:40.748000\n"
     ]
    }
   ],
   "source": [
    "import pandas as pd\n",
    "import os\n",
    "\n",
    "importlib.reload(pdb)\n",
    "\n",
    "original_file = 'process_datasets/vacinal_2025_new_processado.csv'\n",
    "new_file_name = 'vacinal_2025_06_semana'\n",
    "start_date = '2025-06-01'\n",
    "end_date = '2025-06-08'  #não incluso\n",
    "\n",
    "pasta = \"process_datasets\"\n",
    "os.makedirs(pasta, exist_ok=True)\n",
    "\n",
    "df_new_database = pdb.cut_database_by_date(original_file, start_date=start_date, end_date=end_date)\n",
    "\n",
    "pdb.info_df(df_new_database)\n",
    "\n",
    "caminho = os.path.join(pasta, f\"{new_file_name}.csv\")\n",
    "df_new_database.to_csv(caminho, index=False)"
   ]
  },
  {
   "cell_type": "markdown",
   "id": "21b54c9c",
   "metadata": {},
   "source": [
    "Remove registros duplicados"
   ]
  },
  {
   "cell_type": "code",
   "execution_count": 16,
   "id": "40a7f469",
   "metadata": {},
   "outputs": [
    {
     "name": "stdout",
     "output_type": "stream",
     "text": [
      "Tamanho arquivo original: 12562\n"
     ]
    },
    {
     "name": "stderr",
     "output_type": "stream",
     "text": [
      "Verificando similaridade:   1%|          | 140/12562 [00:00<00:09, 1359.63it/s]c:\\Projetos\\Pre-Processing-ToR\\utils\\processing_database.py:50: UserWarning: [W008] Evaluating Doc.similarity based on empty vectors.\n",
      "  if doc_i.similarity(docs[j]) >= threshold:\n",
      "Verificando similaridade: 100%|██████████| 12562/12562 [07:44<00:00, 27.05it/s]\n"
     ]
    },
    {
     "name": "stdout",
     "output_type": "stream",
     "text": [
      "Índices removidos: 1021\n",
      "Tamanho arquivo processado: 11541\n",
      "\n",
      "\n",
      "Arquivo salvo em: process_datasets\\vacinal_2025_new_processado.csv\n"
     ]
    }
   ],
   "source": [
    "import utils.processing_database as pdb\n",
    "import importlib\n",
    "\n",
    "importlib.reload(pdb)\n",
    "\n",
    "file = \"vacinal_2025_new\"\n",
    "input_file = \"datasets/\" + file + \".csv\"\n",
    "\n",
    "pasta = \"process_datasets\"\n",
    "os.makedirs(pasta, exist_ok=True)\n",
    "\n",
    "df_filtrado = pdb.remover_textos_semelhantes_spacy(\n",
    "    file = input_file,\n",
    "    column = \"description\"\n",
    ")\n",
    "\n",
    "print(\"\\n\")\n",
    "\n",
    "caminho = os.path.join(pasta, f\"{file}_processado.csv\")\n",
    "df_filtrado.to_csv(caminho, index=False)\n",
    "\n",
    "print(f\"Arquivo salvo em: {caminho}\")"
   ]
  }
 ],
 "metadata": {
  "kernelspec": {
   "display_name": "Python 3",
   "language": "python",
   "name": "python3"
  },
  "language_info": {
   "codemirror_mode": {
    "name": "ipython",
    "version": 3
   },
   "file_extension": ".py",
   "mimetype": "text/x-python",
   "name": "python",
   "nbconvert_exporter": "python",
   "pygments_lexer": "ipython3",
   "version": "3.12.4"
  }
 },
 "nbformat": 4,
 "nbformat_minor": 5
}
