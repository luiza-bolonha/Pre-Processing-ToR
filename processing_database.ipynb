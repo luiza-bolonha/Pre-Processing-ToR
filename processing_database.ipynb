{
 "cells": [
  {
   "cell_type": "markdown",
   "id": "19b79e74",
   "metadata": {},
   "source": [
    "Informacões da base de dados"
   ]
  },
  {
   "cell_type": "code",
   "execution_count": 5,
   "id": "f356ea8d",
   "metadata": {},
   "outputs": [
    {
     "name": "stdout",
     "output_type": "stream",
     "text": [
      "A base tem 3270 linhas.\n",
      "A menor data é: 2025-05-01 01:41:22.866000\n",
      "A maior data é: 2025-05-31 23:55:41.268000\n"
     ]
    }
   ],
   "source": [
    "import pandas as pd\n",
    "import utils.processing_database as pdb\n",
    "import importlib\n",
    "\n",
    "importlib.reload(pdb)\n",
    "\n",
    "file_path = 'process_datasets/vacinal_2025_mai.csv'\n",
    "\n",
    "pdb.info_file(file_path)"
   ]
  },
  {
   "cell_type": "markdown",
   "id": "800b4083",
   "metadata": {},
   "source": [
    "Cria nova base de dados filtrando pela data"
   ]
  },
  {
   "cell_type": "code",
   "execution_count": null,
   "id": "44f24ab0",
   "metadata": {},
   "outputs": [
    {
     "name": "stdout",
     "output_type": "stream",
     "text": [
      "A base tem 1232 linhas.\n",
      "A menor data é: 2025-06-01 00:02:58.532000\n",
      "A maior data é: 2025-06-03 23:54:55.440000\n"
     ]
    }
   ],
   "source": [
    "import pandas as pd\n",
    "import os\n",
    "\n",
    "importlib.reload(pdb)\n",
    "\n",
    "original_file = 'process_datasets/vacinal_2025.csv'\n",
    "new_file_name = 'vacinal_2025_jun'\n",
    "start_date = '2025-06-01'\n",
    "end_date = '2025-07-01'  #não incluso\n",
    "\n",
    "pasta = \"process_datasets\"\n",
    "os.makedirs(pasta, exist_ok=True)\n",
    "\n",
    "df_new_database = pdb.cut_database_by_date(original_file, start_date=start_date, end_date=end_date)\n",
    "\n",
    "pdb.info_df(df_new_database)\n",
    "\n",
    "caminho = os.path.join(pasta, f\"{new_file_name}.csv\")\n",
    "df_new_database.to_csv(caminho, index=False)"
   ]
  },
  {
   "cell_type": "code",
   "execution_count": 1,
   "id": "2931991a",
   "metadata": {},
   "outputs": [
    {
     "ename": "NameError",
     "evalue": "name 'pdb' is not defined",
     "output_type": "error",
     "traceback": [
      "\u001b[31m---------------------------------------------------------------------------\u001b[39m",
      "\u001b[31mNameError\u001b[39m                                 Traceback (most recent call last)",
      "\u001b[36mCell\u001b[39m\u001b[36m \u001b[39m\u001b[32mIn[1]\u001b[39m\u001b[32m, line 2\u001b[39m\n\u001b[32m      1\u001b[39m original_file = \u001b[33m'\u001b[39m\u001b[33mprocess_datasets/vacinal_2025.csv\u001b[39m\u001b[33m'\u001b[39m\n\u001b[32m----> \u001b[39m\u001b[32m2\u001b[39m \u001b[43mpdb\u001b[49m.info_file(original_file)\n",
      "\u001b[31mNameError\u001b[39m: name 'pdb' is not defined"
     ]
    }
   ],
   "source": [
    "original_file = 'process_datasets/vacinal_2025.csv'\n",
    "pdb.info_file(original_file)\n"
   ]
  },
  {
   "cell_type": "code",
   "execution_count": 3,
   "id": "40a7f469",
   "metadata": {},
   "outputs": [
    {
     "ename": "NameError",
     "evalue": "name 'os' is not defined",
     "output_type": "error",
     "traceback": [
      "\u001b[31m---------------------------------------------------------------------------\u001b[39m",
      "\u001b[31mNameError\u001b[39m                                 Traceback (most recent call last)",
      "\u001b[36mCell\u001b[39m\u001b[36m \u001b[39m\u001b[32mIn[3]\u001b[39m\u001b[32m, line 10\u001b[39m\n\u001b[32m      7\u001b[39m input_file = \u001b[33m\"\u001b[39m\u001b[33mdatasets/\u001b[39m\u001b[33m\"\u001b[39m + file + \u001b[33m\"\u001b[39m\u001b[33m.csv\u001b[39m\u001b[33m\"\u001b[39m\n\u001b[32m      9\u001b[39m pasta = \u001b[33m\"\u001b[39m\u001b[33mprocess_datasets\u001b[39m\u001b[33m\"\u001b[39m\n\u001b[32m---> \u001b[39m\u001b[32m10\u001b[39m \u001b[43mos\u001b[49m.makedirs(pasta, exist_ok=\u001b[38;5;28;01mTrue\u001b[39;00m)\n\u001b[32m     12\u001b[39m df_filtrado = pdb.remover_textos_semelhantes_spacy(\n\u001b[32m     13\u001b[39m     file = input_file,\n\u001b[32m     14\u001b[39m     column = \u001b[33m\"\u001b[39m\u001b[33mdescription\u001b[39m\u001b[33m\"\u001b[39m\n\u001b[32m     15\u001b[39m )\n\u001b[32m     17\u001b[39m \u001b[38;5;28mprint\u001b[39m(\u001b[33m\"\u001b[39m\u001b[38;5;130;01m\\n\u001b[39;00m\u001b[33m\"\u001b[39m)\n",
      "\u001b[31mNameError\u001b[39m: name 'os' is not defined"
     ]
    }
   ],
   "source": [
    "import utils.processing_database as pdb\n",
    "import importlib\n",
    "\n",
    "importlib.reload(pdb)\n",
    "\n",
    "file = \"vacinal_2025\"\n",
    "input_file = \"datasets/\" + file + \".csv\"\n",
    "\n",
    "pasta = \"process_datasets\"\n",
    "os.makedirs(pasta, exist_ok=True)\n",
    "\n",
    "df_filtrado = pdb.remover_textos_semelhantes_spacy(\n",
    "    file = input_file,\n",
    "    column = \"description\"\n",
    ")\n",
    "\n",
    "print(\"\\n\")\n",
    "\n",
    "caminho = os.path.join(pasta, f\"{file}_processado.csv\")\n",
    "#df_filtrado.to_csv(caminho, index=False)\n",
    "\n",
    "print(f\"Arquivo salvo em: {caminho}\")"
   ]
  }
 ],
 "metadata": {
  "kernelspec": {
   "display_name": "Python 3",
   "language": "python",
   "name": "python3"
  },
  "language_info": {
   "codemirror_mode": {
    "name": "ipython",
    "version": 3
   },
   "file_extension": ".py",
   "mimetype": "text/x-python",
   "name": "python",
   "nbconvert_exporter": "python",
   "pygments_lexer": "ipython3",
   "version": "3.12.4"
  }
 },
 "nbformat": 4,
 "nbformat_minor": 5
}
