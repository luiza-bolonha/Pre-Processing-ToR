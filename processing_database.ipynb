{
 "cells": [
  {
   "cell_type": "markdown",
   "id": "19b79e74",
   "metadata": {},
   "source": [
    "Informacões da base de dados"
   ]
  },
  {
   "cell_type": "code",
   "execution_count": 11,
   "id": "f356ea8d",
   "metadata": {},
   "outputs": [
    {
     "name": "stdout",
     "output_type": "stream",
     "text": [
      "A base tem 81574 linhas.\n",
      "A menor data é: 2024-09-19 20:15:00.588000\n",
      "A maior data é: 2024-10-03 00:13:12.548000\n"
     ]
    }
   ],
   "source": [
    "import pandas as pd\n",
    "from utils.io_helpers import info_df, info_file\n",
    "\n",
    "file_path = 'datasets/vacinal_2024.csv'\n",
    "\n",
    "info_file(file_path)"
   ]
  },
  {
   "cell_type": "markdown",
   "id": "800b4083",
   "metadata": {},
   "source": [
    "Cria nova base de dados filtrando pela data"
   ]
  },
  {
   "cell_type": "code",
   "execution_count": 14,
   "id": "44f24ab0",
   "metadata": {},
   "outputs": [
    {
     "name": "stdout",
     "output_type": "stream",
     "text": [
      "A base tem 1364 linhas.\n",
      "A menor data é: 2025-06-01 00:02:58.532000\n",
      "A maior data é: 2025-06-03 23:54:55.440000\n"
     ]
    },
    {
     "name": "stderr",
     "output_type": "stream",
     "text": [
      "c:\\Projetos\\Pre-Processing-ToR\\utils\\io_helpers.py:17: SettingWithCopyWarning: \n",
      "A value is trying to be set on a copy of a slice from a DataFrame.\n",
      "Try using .loc[row_indexer,col_indexer] = value instead\n",
      "\n",
      "See the caveats in the documentation: https://pandas.pydata.org/pandas-docs/stable/user_guide/indexing.html#returning-a-view-versus-a-copy\n",
      "  df['createdAt'] = pd.to_datetime(df['createdAt'], format='mixed')\n"
     ]
    }
   ],
   "source": [
    "import pandas as pd\n",
    "import os\n",
    "\n",
    "original_file = 'datasets/vacinal_2025.csv'\n",
    "new_file_name = 'semana_1_jun_2025'\n",
    "start_date = '2025-06-01'\n",
    "end_date = '2025-06-07'\n",
    "\n",
    "pasta = \"datasets\"\n",
    "os.makedirs(pasta, exist_ok=True)\n",
    "\n",
    "df = pd.read_csv(original_file)\n",
    "\n",
    "df['createdAt'] = pd.to_datetime(df['createdAt'], format='mixed')\n",
    "df_ordenado = df.sort_values(by='createdAt')\n",
    "\n",
    "data_inicio = pd.Timestamp(start_date)\n",
    "data_fim = pd.Timestamp(end_date)\n",
    "df_new_database = df_ordenado[(df_ordenado['createdAt'] >= data_inicio) & (df_ordenado['createdAt'] < data_fim)]\n",
    "\n",
    "info_df(df_new_database)\n",
    "\n",
    "caminho = os.path.join(pasta, f\"{new_file_name}.csv\")\n",
    "#df_new_database.to_csv(caminho, index=False)"
   ]
  },
  {
   "cell_type": "code",
   "execution_count": null,
   "id": "40a7f469",
   "metadata": {},
   "outputs": [],
   "source": []
  }
 ],
 "metadata": {
  "kernelspec": {
   "display_name": "Python 3",
   "language": "python",
   "name": "python3"
  },
  "language_info": {
   "codemirror_mode": {
    "name": "ipython",
    "version": 3
   },
   "file_extension": ".py",
   "mimetype": "text/x-python",
   "name": "python",
   "nbconvert_exporter": "python",
   "pygments_lexer": "ipython3",
   "version": "3.12.4"
  }
 },
 "nbformat": 4,
 "nbformat_minor": 5
}
