{
 "cells": [
  {
   "cell_type": "markdown",
   "id": "50b710db",
   "metadata": {},
   "source": [
    "PRÉ PROCESSAMENTO"
   ]
  },
  {
   "cell_type": "code",
   "execution_count": 1,
   "id": "4c8257e0",
   "metadata": {},
   "outputs": [],
   "source": [
    "#Limpa texto bruto\n",
    "\n",
    "import re\n",
    "\n",
    "# Regex pré-compiladas\n",
    "URL_MENCAO_REGEX = re.compile(r\"http\\S+|www\\S+|https\\S+|@\\w+|#\")\n",
    "EMOJI_SYMBOL_REGEX = re.compile(r\"[^\\w\\s\\-áéíóúâêôãõç]\", flags=re.UNICODE)\n",
    "\n",
    "ABREVIACOES = {\n",
    "    \"q\": \"que\", \"pq\": \"porque\", \"vc\": \"você\", \"vcs\": \"vocês\", \"tb\": \"também\",\n",
    "    \"blz\": \"beleza\", \"hj\": \"hoje\", \"amanha\": \"amanhã\", \"mt\": \"muito\", \"td\": \"tudo\",\n",
    "    \"obg\": \"obrigado\", \"vlw\": \"valeu\", \"msg\": \"mensagem\", \"n\": \"não\", \"s\": \"sim\",\n",
    "    \"tbm\": \"também\", \"p\": \"para\", \"nao\": \"não\"\n",
    "}\n",
    "ABREVIACOES_REGEX = re.compile(r'\\b(' + '|'.join(map(re.escape, ABREVIACOES.keys())) + r')\\b', flags=re.IGNORECASE)\n",
    "\n",
    "def substituir_abreviacoes(match):\n",
    "    palavra = match.group(0).lower()\n",
    "    return ABREVIACOES.get(palavra, palavra)\n",
    "\n",
    "def limpar_texto_bruto(texto: str) -> str:\n",
    "    texto = URL_MENCAO_REGEX.sub(\" \", texto)\n",
    "    texto = ABREVIACOES_REGEX.sub(substituir_abreviacoes, texto)\n",
    "    texto = EMOJI_SYMBOL_REGEX.sub(\" \", texto)\n",
    "    return texto\n",
    "\n",
    "def carregar_stopwords_personalizadas():\n",
    "    with open('stopwords.txt', \"r\", encoding=\"utf-8\") as f:\n",
    "        return set(p.strip().lower() for p in f if p.strip())"
   ]
  },
  {
   "cell_type": "code",
   "execution_count": 2,
   "id": "98b23d52",
   "metadata": {},
   "outputs": [],
   "source": [
    "#Configuração do spaCy e Matcher\n",
    "\n",
    "import spacy\n",
    "import nltk\n",
    "from spacy.matcher import Matcher\n",
    "\n",
    "nlp = spacy.load('pt_core_news_lg')\n",
    "#stopwords = set(nltk.corpus.stopwords.words('portuguese'))\n",
    "stopwords = carregar_stopwords_personalizadas()\n",
    "matcher = Matcher(nlp.vocab)\n",
    "\n",
    "# Adiciona padrões\n",
    "matcher.add(\"NUM_UNIDADE\", [[\n",
    "    {\"LIKE_NUM\": True},\n",
    "    {\"LOWER\": {\"IN\": [\"mil\", \"milhão\", \"milhões\", \"bilhão\", \"bilhões\"]}, \"OP\": \"?\"},\n",
    "    {\"LOWER\": \"de\", \"OP\": \"?\"},\n",
    "    {\"POS\": \"NOUN\"}\n",
    "]])\n",
    "matcher.add(\"SUBSTANTIVOS\", [[{\"POS\": \"NOUN\"}]])\n",
    "matcher.add(\"PROPRIOS\", [[{\"POS\": \"PROPN\"}]])\n",
    "matcher.add(\"ADJETIVOS\", [[{\"POS\": \"ADJ\"}]])"
   ]
  },
  {
   "cell_type": "code",
   "execution_count": 4,
   "id": "3e1d23ed",
   "metadata": {},
   "outputs": [],
   "source": [
    "from spacy.util import filter_spans\n",
    "\n",
    "def capitalizar_palavras(texto):\n",
    "    return ' '.join(p.capitalize() for p in texto.split())\n",
    "\n",
    "def pre_processar_doc(doc):\n",
    "    from collections import defaultdict\n",
    "\n",
    "    matches = matcher(doc)\n",
    "    spans = [doc[start:end] for _, start, end in matches]\n",
    "    spans_filtrados = filter_spans(spans)\n",
    "\n",
    "    spans_dict = {span.start: span for span in spans_filtrados}\n",
    "    ent_by_start = {ent.start: ent for ent in doc.ents}\n",
    "\n",
    "    tokens = []\n",
    "    i = 0\n",
    "    while i < len(doc):\n",
    "        if i in ent_by_start:\n",
    "            ent = ent_by_start[i]\n",
    "            tokens.append(capitalizar_palavras(ent.text.lower()))\n",
    "            i = ent.end\n",
    "        elif i in spans_dict:\n",
    "            span = spans_dict[i]\n",
    "            span_text = span.text.lower()\n",
    "            if len(span) == 1:\n",
    "                token = span[0]\n",
    "                if token.pos_ == \"VERB\":\n",
    "                    tokens.append(token.lemma_)\n",
    "                elif token.is_alpha and token.text.lower() not in stopwords and len(token.text) >= 3:\n",
    "                    tokens.append(token.text.lower())\n",
    "            elif len(span_text) >= 3:\n",
    "                tokens.append(span_text)\n",
    "            i = span.end\n",
    "        else:\n",
    "            i += 1\n",
    "\n",
    "    return tokens"
   ]
  },
  {
   "cell_type": "markdown",
   "id": "495fced6",
   "metadata": {},
   "source": [
    "PROCESSAR LOTES DE TEXTOS"
   ]
  },
  {
   "cell_type": "code",
   "execution_count": 3,
   "id": "fcb8d34d",
   "metadata": {},
   "outputs": [],
   "source": [
    "def processar_lote_textos(lista_de_textos, batch_size=1000, n_process=1):\n",
    "    docs = nlp.pipe([limpar_texto_bruto(txt) for txt in lista_de_textos],\n",
    "                    batch_size=batch_size,\n",
    "                    n_process=n_process)\n",
    "    return [pre_processar_doc(doc) for doc in docs]"
   ]
  },
  {
   "cell_type": "markdown",
   "id": "75de5ba4",
   "metadata": {},
   "source": [
    "CLUSTERIZAÇÃO"
   ]
  },
  {
   "cell_type": "code",
   "execution_count": 5,
   "id": "5ca5ddf1",
   "metadata": {},
   "outputs": [],
   "source": [
    "import networkx as nx\n",
    "import os\n",
    "\n",
    "def extrair_clusters_com_ramos(graphml_path):\n",
    "    G = nx.read_graphml(graphml_path)\n",
    "    if \"0\" in G:\n",
    "        G.remove_node(\"0\")\n",
    "\n",
    "    def nome(n):\n",
    "        return G.nodes[n].get(\"value\", n)\n",
    "\n",
    "    componentes = []\n",
    "    visitados = set()\n",
    "\n",
    "    for raiz in G.nodes:\n",
    "        if raiz in visitados or G.out_degree(raiz) == 0:\n",
    "            continue\n",
    "\n",
    "        descendentes = nx.descendants(G, raiz)\n",
    "        cluster_nos = {raiz} | descendentes\n",
    "        if len(cluster_nos) <= 1:\n",
    "            continue\n",
    "\n",
    "        visitados |= cluster_nos\n",
    "\n",
    "        folhas = [n for n in cluster_nos if G.out_degree(n) == 0]\n",
    "        ramos = []\n",
    "        palavras_ramos = set()\n",
    "        for folha in folhas:\n",
    "            for caminho in nx.all_simple_paths(G, raiz, folha):\n",
    "                caminho_nomes = [nome(n) for n in caminho]\n",
    "                ramos.append(caminho_nomes)\n",
    "                palavras_ramos.update(caminho_nomes[1:])\n",
    "\n",
    "        componentes.append({\n",
    "            \"raiz\": nome(raiz),\n",
    "            \"ramos\": ramos,\n",
    "            \"n_nos\": len(cluster_nos),\n",
    "            \"ids\": cluster_nos,\n",
    "            \"palavras\": list(palavras_ramos)\n",
    "        })\n",
    "\n",
    "    \n",
    "    #Exibir\n",
    "    for idx, c in enumerate(componentes, 1):\n",
    "        print(f\"Cluster {idx} — Raiz: {c['raiz']} — {c['n_nos']} nós\")\n",
    "        print(\"Ramos: \")\n",
    "        for ramo in c[\"ramos\"]:\n",
    "            print(\" → \".join(ramo))\n",
    "        print(\"Palavras:\")\n",
    "        print(\", \".join(c[\"palavras\"]))\n",
    "        print(\"-\" * 80)\n",
    "\n",
    "    return componentes\n"
   ]
  },
  {
   "cell_type": "markdown",
   "id": "ef14f090",
   "metadata": {},
   "source": [
    "SEPARA CLUSTERS"
   ]
  },
  {
   "cell_type": "code",
   "execution_count": 6,
   "id": "6f2b38c4",
   "metadata": {},
   "outputs": [],
   "source": [
    "import networkx as nx\n",
    "import os\n",
    "\n",
    "def separar_clusters_por_tamanho(graphml_path, pasta_destino=\"outputs_clusters\"):\n",
    "    os.makedirs(pasta_destino, exist_ok=True)\n",
    "\n",
    "    G = nx.read_graphml(graphml_path)\n",
    "    G_pequenos = nx.DiGraph()\n",
    "    G_maiores = nx.DiGraph()\n",
    "\n",
    "    # Armazena os atributos do nó \"0\" e suas arestas\n",
    "    origem_presente = \"0\" in G\n",
    "    if origem_presente:\n",
    "        atributos_0 = G.nodes[\"0\"]\n",
    "        arestas_de_0 = list(G.out_edges(\"0\", data=True))\n",
    "        arestas_para_0 = list(G.in_edges(\"0\", data=True))\n",
    "\n",
    "    for vizinho in G.successors(\"0\") if origem_presente else G.nodes:\n",
    "        if vizinho == \"0\":\n",
    "            continue\n",
    "\n",
    "        subnos = nx.descendants(G, vizinho) | {vizinho}\n",
    "        subgrafo = G.subgraph(subnos).copy()\n",
    "\n",
    "        if len(subgrafo.nodes) <= 1:\n",
    "            G_pequenos = nx.compose(G_pequenos, subgrafo)\n",
    "        else:\n",
    "            G_maiores = nx.compose(G_maiores, subgrafo)\n",
    "\n",
    "    # Adiciona \"0\" e suas arestas aos dois grafos se necessário\n",
    "    if origem_presente:\n",
    "        for G_cluster in [G_pequenos, G_maiores]:\n",
    "            G_cluster.add_node(\"0\", **atributos_0)\n",
    "            for u, v, data in arestas_de_0:\n",
    "                if v in G_cluster:\n",
    "                    G_cluster.add_edge(u, v, **data)\n",
    "            for u, v, data in arestas_para_0:\n",
    "                if u in G_cluster:\n",
    "                    G_cluster.add_edge(u, v, **data)\n",
    "\n",
    "    # Salva os arquivos\n",
    "    path_pequenos = os.path.join(pasta_destino, \"clusters_pequenos.graphml\")\n",
    "    path_maiores = os.path.join(pasta_destino, \"clusters_maiores.graphml\")\n",
    "    nx.write_graphml(G_pequenos, path_pequenos)\n",
    "    nx.write_graphml(G_maiores, path_maiores)\n",
    "\n",
    "    return path_pequenos, path_maiores\n"
   ]
  },
  {
   "cell_type": "markdown",
   "id": "b3eac1d1",
   "metadata": {},
   "source": [
    "TWEETS MAIS RELEVANTES"
   ]
  },
  {
   "cell_type": "code",
   "execution_count": 7,
   "id": "053ea812",
   "metadata": {},
   "outputs": [],
   "source": [
    "def encontrar_tweets_relacionados(componentes, textos_tokenizados, textos_originais):\n",
    "    resultados = []\n",
    "\n",
    "    for idx, c in enumerate(componentes, 1):\n",
    "        ramos_sets = [set(r) for r in c[\"ramos\"]]\n",
    "        tweets_relevantes = []\n",
    "\n",
    "        for i, tokens in enumerate(textos_tokenizados):\n",
    "            tokens_set = set(tokens)\n",
    "            if any(ramo.issubset(tokens_set) for ramo in ramos_sets):\n",
    "                tweets_relevantes.append({\n",
    "                    \"tweet\": textos_originais[i],\n",
    "                    \"index\": i\n",
    "                })\n",
    "\n",
    "        resultados.append({\n",
    "            \"cluster_idx\": idx,\n",
    "            \"raiz\": c[\"raiz\"],\n",
    "            \"n_nos\": c[\"n_nos\"],\n",
    "            \"n_tweets\": len(tweets_relevantes),\n",
    "            \"tweets\": tweets_relevantes\n",
    "        })\n",
    "\n",
    "        print(f\"Cluster {idx} ({c['raiz']}) — {len(tweets_relevantes)} tweets relacionados\")\n",
    "\n",
    "    return resultados\n"
   ]
  },
  {
   "cell_type": "markdown",
   "id": "7319a58c",
   "metadata": {},
   "source": [
    "CONSULTA IA PARA RESUMIR TWEETS"
   ]
  },
  {
   "cell_type": "code",
   "execution_count": 8,
   "id": "b307ec10",
   "metadata": {},
   "outputs": [],
   "source": [
    "from openai import OpenAI\n",
    "import os\n",
    "from dotenv import load_dotenv\n",
    "\n",
    "load_dotenv(dotenv_path=\"variables.env\")\n",
    "\n",
    "api_key = os.environ.get(\"API_KEY\")\n",
    "\n",
    "client = OpenAI(api_key=api_key)\n",
    "\n",
    "def consult_IA(promp):\n",
    "    response = client.chat.completions.create(\n",
    "        model=\"gpt-4o\",\n",
    "        messages=[\n",
    "            {\"role\": \"user\", \"content\": promp}\n",
    "        ],\n",
    "        temperature=1,\n",
    "        max_tokens=2048,\n",
    "        top_p=1\n",
    "    )\n",
    "\n",
    "    print(response.choices[0].message.content)"
   ]
  },
  {
   "cell_type": "code",
   "execution_count": 16,
   "id": "31770196",
   "metadata": {},
   "outputs": [],
   "source": [
    "def gera_prompt(c):\n",
    "    prompt = f\"Considere os tweets a seguir, que foram identificados como relacionados ao assunto {c['raiz']}. Eles mencionam com frequência palavras como: {', '.join(c['palavras'])}. Com base nesse conteúdo, gere um pequeno texto de 1 a 2 parágrafos, com uma síntese clara e objetiva sobre o que está sendo discutido nos tweets. O texto deve ajudar qualquer pessoa a entender rapidamente o teor das conversas, mesmo que ela não tenha lido os tweets originais. Retorne somente o resumo.\"\n",
    "    return prompt\n",
    "    #return consult_IA(prompt)"
   ]
  },
  {
   "cell_type": "markdown",
   "id": "248f130c",
   "metadata": {},
   "source": [
    "CONTAGEM DE PALAVRAS"
   ]
  },
  {
   "cell_type": "code",
   "execution_count": 17,
   "id": "feb37323",
   "metadata": {},
   "outputs": [],
   "source": [
    "from collections import Counter\n",
    "import csv\n",
    "\n",
    "def contagem_palavras(list):\n",
    "\n",
    "    contador = Counter()\n",
    "    for sublist in list:\n",
    "        contador.update(sublist)\n",
    "\n",
    "    mais_comuns = contador.most_common(1000)\n",
    "    \n",
    "    with open(\"frequencia_palavras.csv\", mode=\"w\", newline=\"\", encoding=\"utf-8\") as arquivo_csv:\n",
    "        writer = csv.writer(arquivo_csv)\n",
    "        writer.writerows(mais_comuns)"
   ]
  },
  {
   "cell_type": "markdown",
   "id": "53e4cad2",
   "metadata": {},
   "source": [
    "MAIN"
   ]
  },
  {
   "cell_type": "code",
   "execution_count": 31,
   "id": "0fbcb21d",
   "metadata": {},
   "outputs": [
    {
     "name": "stdout",
     "output_type": "stream",
     "text": [
      "Carregando dataset...\n",
      "Pré-processando textos com spaCy...\n"
     ]
    }
   ],
   "source": [
    "import pandas as pd\n",
    "from trieofrules import trieofrules\n",
    "\n",
    "input_file = \"datasets/database_juliana_marins - resgate.csv\"\n",
    "output_file = \"outputs/resultado_resgate_tweet.graphml\"\n",
    "\n",
    "# 1. Carrega o CSV\n",
    "print(\"Carregando dataset...\")\n",
    "df = pd.read_csv(input_file)\n",
    "#lista_de_textos = df[\"description\"].astype(str).tolist()\n",
    "lista_de_textos = df[\"Texto\"].astype(str).tolist()\n",
    "\n",
    "# 2. Pré-processamento\n",
    "print(\"Pré-processando textos com spaCy...\")\n",
    "resultado = processar_lote_textos(lista_de_textos, batch_size=1000, n_process=1)\n"
   ]
  },
  {
   "cell_type": "code",
   "execution_count": 12,
   "id": "6df87401",
   "metadata": {},
   "outputs": [],
   "source": [
    "contagem_palavras(resultado)"
   ]
  },
  {
   "cell_type": "code",
   "execution_count": 39,
   "id": "6e6a19e2",
   "metadata": {},
   "outputs": [
    {
     "name": "stdout",
     "output_type": "stream",
     "text": [
      "Gerando árvore de regras (TOR)...\n",
      "Salvando .graphml...\n"
     ]
    },
    {
     "data": {
      "image/png": "[encoded data removed]",
      "text/plain": [
       "<Figure size 640x480 with 1 Axes>"
      ]
     },
     "metadata": {},
     "output_type": "display_data"
    }
   ],
   "source": [
    "# 3. Gera o TOR (Trie of Rules) a partir dos dados\n",
    "print(\"Gerando árvore de regras (TOR)...\")\n",
    "TOR = trieofrules(data=resultado, alg='FP-max', min_support=0.55)\n",
    "TOR.draw()\n",
    "\n",
    "# 4. Salva a visualização e estrutura como .graphml\n",
    "print(\"Salvando .graphml...\")\n",
    "TOR.save_graph(filename=output_file)"
   ]
  },
  {
   "cell_type": "code",
   "execution_count": null,
   "id": "387c869d",
   "metadata": {},
   "outputs": [
    {
     "name": "stdout",
     "output_type": "stream",
     "text": [
      "Extraindo clusters e ramos do grafo...\n",
      "Cluster 1 — Raiz: Aedes — 2 nós\n",
      "Ramos: \n",
      "Aedes → aegypti\n",
      "Palavras:\n",
      "aegypti\n",
      "--------------------------------------------------------------------------------\n",
      "Cluster 2 — Raiz: Brasil — 2 nós\n",
      "Ramos: \n",
      "Brasil → casos\n",
      "Palavras:\n",
      "casos\n",
      "--------------------------------------------------------------------------------\n",
      "Cluster 3 — Raiz: aviária — 7 nós\n",
      "Ramos: \n",
      "aviária → casos\n",
      "aviária → granja\n",
      "aviária → suspeitos\n",
      "aviária → suspeita\n",
      "aviária → Brasil\n",
      "aviária → aves\n",
      "Palavras:\n",
      "aves, granja, Brasil, suspeita, casos, suspeitos\n",
      "--------------------------------------------------------------------------------\n",
      "Cluster 4 — Raiz: casos — 4 nós\n",
      "Ramos: \n",
      "casos → Covid-19\n",
      "casos → aumento\n",
      "casos → doença\n",
      "Palavras:\n",
      "Covid-19, doença, aumento\n",
      "--------------------------------------------------------------------------------\n",
      "Cluster 5 — Raiz: câncer — 2 nós\n",
      "Ramos: \n",
      "câncer → útero\n",
      "Palavras:\n",
      "útero\n",
      "--------------------------------------------------------------------------------\n",
      "Cluster 6 — Raiz: dengue — 5 nós\n",
      "Ramos: \n",
      "dengue → combate\n",
      "dengue → casos\n",
      "dengue → doença\n",
      "dengue → mosquito\n",
      "Palavras:\n",
      "doença, mosquito, casos, combate\n",
      "--------------------------------------------------------------------------------\n",
      "Cluster 7 — Raiz: fake — 2 nós\n",
      "Ramos: \n",
      "fake → café\n",
      "Palavras:\n",
      "café\n",
      "--------------------------------------------------------------------------------\n",
      "Cluster 8 — Raiz: febre — 2 nós\n",
      "Ramos: \n",
      "febre → amarela\n",
      "Palavras:\n",
      "amarela\n",
      "--------------------------------------------------------------------------------\n",
      "Cluster 9 — Raiz: granja — 2 nós\n",
      "Ramos: \n",
      "granja → comercial\n",
      "Palavras:\n",
      "comercial\n",
      "--------------------------------------------------------------------------------\n",
      "Cluster 10 — Raiz: gripe — 22 nós\n",
      "Ramos: \n",
      "gripe → população\n",
      "gripe → aviária → casos\n",
      "gripe → Brasil\n",
      "gripe → suspeitos\n",
      "gripe → casos\n",
      "gripe → governo\n",
      "gripe → Rs\n",
      "gripe → granja\n",
      "gripe → aviária → granja\n",
      "gripe → aviária → suspeita\n",
      "gripe → suspeita\n",
      "gripe → aviária → suspeitos\n",
      "gripe → aves\n",
      "gripe → saúde\n",
      "gripe → vacinação → população\n",
      "gripe → aviária → Brasil\n",
      "gripe → sábado\n",
      "gripe → dia\n",
      "gripe → vacinação → sábado\n",
      "Palavras:\n",
      "governo, granja, aves, Rs, saúde, dia, Brasil, suspeita, aviária, sábado, casos, população, vacinação, suspeitos\n",
      "--------------------------------------------------------------------------------\n",
      "Cluster 11 — Raiz: saúde — 8 nós\n",
      "Ramos: \n",
      "saúde → atendimento\n",
      "saúde → dengue\n",
      "saúde → dia\n",
      "saúde → Brasil\n",
      "saúde → pública\n",
      "saúde → sus\n",
      "saúde → população\n",
      "Palavras:\n",
      "atendimento, dia, pública, Brasil, população, sus, dengue\n",
      "--------------------------------------------------------------------------------\n",
      "Cluster 12 — Raiz: sus — 4 nós\n",
      "Ramos: \n",
      "sus → atendimento\n",
      "sus → tratamento\n",
      "sus → Brasil\n",
      "Palavras:\n",
      "atendimento, tratamento, Brasil\n",
      "--------------------------------------------------------------------------------\n",
      "Cluster 13 — Raiz: vacina — 16 nós\n",
      "Ramos: \n",
      "vacina → vírus\n",
      "vacina → crianças\n",
      "vacina → Bolsonaro\n",
      "vacina → vacinas\n",
      "vacina → gripe\n",
      "vacina → vacinação\n",
      "vacina → covid\n",
      "vacina → saúde\n",
      "vacina → dengue\n",
      "vacina → avc\n",
      "vacina → Covid-19\n",
      "vacina → risco\n",
      "vacina → Covid\n",
      "vacina → população\n",
      "vacina → pessoas\n",
      "Palavras:\n",
      "Bolsonaro, Covid, vacinas, pessoas, crianças, gripe, saúde, risco, avc, Covid-19, população, vacinação, covid, vírus, dengue\n",
      "--------------------------------------------------------------------------------\n",
      "Cluster 14 — Raiz: vacinal — 2 nós\n",
      "Ramos: \n",
      "vacinal → cobertura\n",
      "Palavras:\n",
      "cobertura\n",
      "--------------------------------------------------------------------------------\n",
      "Cluster 15 — Raiz: vacinação — 10 nós\n",
      "Ramos: \n",
      "vacinação → crianças\n",
      "vacinação → pessoas\n",
      "vacinação → população\n",
      "vacinação → dia\n",
      "vacinação → dengue\n",
      "vacinação → saúde\n",
      "vacinação → Covid-19\n",
      "vacinação → campanha\n",
      "vacinação → sábado\n",
      "Palavras:\n",
      "pessoas, crianças, dia, saúde, Covid-19, sábado, campanha, população, dengue\n",
      "--------------------------------------------------------------------------------\n"
     ]
    },
    {
     "data": {
      "text/plain": [
       "('outputs_clusters\\\\clusters_pequenos.graphml',\n",
       " 'outputs_clusters\\\\clusters_maiores.graphml')"
      ]
     },
     "execution_count": 23,
     "metadata": {},
     "output_type": "execute_result"
    }
   ],
   "source": [
    "# 5. Extrai clusters com ramos hierárquicos\n",
    "print(\"Extraindo clusters e ramos do grafo...\")\n",
    "componentes = extrair_clusters_com_ramos(output_file)\n",
    "separar_clusters_por_tamanho(output_file)"
   ]
  },
  {
   "cell_type": "code",
   "execution_count": 24,
   "id": "b7c49057",
   "metadata": {},
   "outputs": [
    {
     "name": "stdout",
     "output_type": "stream",
     "text": [
      "Relacionando tweets aos clusters...\n",
      "Cluster 1 (Aedes) — 16 tweets relacionados\n",
      "Cluster 2 (Brasil) — 12 tweets relacionados\n",
      "Cluster 3 (aviária) — 53 tweets relacionados\n",
      "Cluster 4 (casos) — 31 tweets relacionados\n",
      "Cluster 5 (câncer) — 12 tweets relacionados\n",
      "Cluster 6 (dengue) — 48 tweets relacionados\n",
      "Cluster 7 (fake) — 12 tweets relacionados\n",
      "Cluster 8 (febre) — 12 tweets relacionados\n",
      "Cluster 9 (granja) — 11 tweets relacionados\n",
      "Cluster 10 (gripe) — 118 tweets relacionados\n",
      "Cluster 11 (saúde) — 90 tweets relacionados\n",
      "Cluster 12 (sus) — 39 tweets relacionados\n",
      "Cluster 13 (vacina) — 179 tweets relacionados\n",
      "Cluster 14 (vacinal) — 11 tweets relacionados\n",
      "Cluster 15 (vacinação) — 105 tweets relacionados\n",
      "Salvando resultados...\n",
      "✅ Pipeline finalizado com sucesso.\n"
     ]
    }
   ],
   "source": [
    "import os\n",
    "\n",
    "pasta = \"outputs_clusters_csv\"\n",
    "os.makedirs(pasta, exist_ok=True)\n",
    "\n",
    "# 6. Relaciona tweets aos clusters\n",
    "print(\"Relacionando tweets aos clusters...\")\n",
    "relacionados = encontrar_tweets_relacionados(componentes, resultado, lista_de_textos)\n",
    "\n",
    "# 7. (Opcional) Salva tweets relacionados por cluster\n",
    "print(\"Salvando resultados...\")\n",
    "for c in relacionados:\n",
    "    if c[\"n_tweets\"] == 0:\n",
    "        continue\n",
    "    nome = c[\"raiz\"].replace(\" \", \"_\")[:30]\n",
    "    df_cluster = pd.DataFrame(c[\"tweets\"])\n",
    "    caminho = os.path.join(pasta, f\"tweets_cluster_{c['cluster_idx']}_{nome}.csv\")\n",
    "    df_cluster.to_csv(caminho, index=False)\n",
    "\n",
    "print(\"✅ Pipeline finalizado com sucesso.\")\n"
   ]
  },
  {
   "cell_type": "code",
   "execution_count": 27,
   "id": "3a9d9725",
   "metadata": {},
   "outputs": [
    {
     "name": "stdout",
     "output_type": "stream",
     "text": [
      "Considere os tweets a seguir, que foram identificados como relacionados ao assunto gripe. Eles mencionam com frequência palavras como: governo, granja, aves, Rs, saúde, dia, Brasil, suspeita, aviária, sábado, casos, população, vacinação, suspeitos. Com base nesse conteúdo, gere um pequeno texto de 1 a 2 parágrafos, com uma síntese clara e objetiva sobre o que está sendo discutido nos tweets. O texto deve ajudar qualquer pessoa a entender rapidamente o teor das conversas, mesmo que ela não tenha lido os tweets originais. Retorne somente o resumo.\n"
     ]
    }
   ],
   "source": [
    "print(gera_prompt(componentes[9]))"
   ]
  },
  {
   "cell_type": "code",
   "execution_count": 48,
   "id": "a469fabe",
   "metadata": {},
   "outputs": [
    {
     "name": "stdout",
     "output_type": "stream",
     "text": [
      "[['kkkkkkkk', 'certíssimo', 'epidemia', 'avc', 'infartos', 'mortes', 'súbitas', 'canceres', 'mudanças', 'climáticas', 'vacina', '6 meses']]\n"
     ]
    }
   ],
   "source": [
    "txt = [\"@efarsas kkkkkkkk Certíssimo. Mesmo pq a epidemia de avc, infartos, mortes súbitas e canceres turbo são causados pelas mudanças climáticas. A vacina feita em menos de 6 meses não tem nada a ver com isso.\"]\n",
    "result = processar_lote_textos(txt)\n",
    "print(result)"
   ]
  }
 ],
 "metadata": {
  "kernelspec": {
   "display_name": "Python 3",
   "language": "python",
   "name": "python3"
  },
  "language_info": {
   "codemirror_mode": {
    "name": "ipython",
    "version": 3
   },
   "file_extension": ".py",
   "mimetype": "text/x-python",
   "name": "python",
   "nbconvert_exporter": "python",
   "pygments_lexer": "ipython3",
   "version": "3.12.4"
  }
 },
 "nbformat": 4,
 "nbformat_minor": 5
}
